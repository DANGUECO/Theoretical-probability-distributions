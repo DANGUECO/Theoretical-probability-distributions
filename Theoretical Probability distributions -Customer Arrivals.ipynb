{
 "cells": [
  {
   "cell_type": "markdown",
   "metadata": {},
   "source": [
    "A Poisson random variable is often used to model counts of customer arrivals in a shop.  Assume that the number of customers to arrive in a particular hour follows a Poisson(5) distribution.  Compute and plot the probabililty distribution of a Poisson(5) distribution. We will plot the distribution over the range 0 to 15."
   ]
  },
  {
   "cell_type": "code",
   "execution_count": 1,
   "metadata": {},
   "outputs": [],
   "source": [
    "import numpy as np\n",
    "import pandas as pd\n",
    "import scipy.stats as stats\n",
    "import statsmodels.formula.api as smf\n",
    "import matplotlib.pyplot as plt\n",
    "from numpy import random "
   ]
  },
  {
   "cell_type": "markdown",
   "metadata": {},
   "source": [
    "Questions to ponder about:\n",
    "\n",
    "(a) The mean and variance of the distribution\n",
    "\n",
    "(b) The probability that two customers arrive in a particular hour\n",
    "\n",
    "(c) The probability fewer than 10 arrive\n",
    "\n",
    "(d) The probability that no more than 10 arrive(less than or equal to)\n",
    "\n",
    "(e) The probability that more than 15 arrive"
   ]
  },
  {
   "cell_type": "code",
   "execution_count": 2,
   "metadata": {},
   "outputs": [
    {
     "name": "stdout",
     "output_type": "stream",
     "text": [
      "[ 0  1  2  3  4  5  6  7  8  9 10 11 12 13 14]\n"
     ]
    }
   ],
   "source": [
    "#mu is 5\n",
    "#Creating a distribution range 0-15\n",
    "mu = 5\n",
    "x = np.arange(0, 15, 1)\n",
    "print(x)"
   ]
  },
  {
   "cell_type": "code",
   "execution_count": 3,
   "metadata": {},
   "outputs": [
    {
     "data": {
      "image/png": "[encoded data removed]",
      "text/plain": [
       "<Figure size 432x288 with 1 Axes>"
      ]
     },
     "metadata": {
      "needs_background": "light"
     },
     "output_type": "display_data"
    }
   ],
   "source": [
    "#pmf takes k and mu, though mu has to be a range.\n",
    "plt.plot(x, stats.poisson.pmf(x,mu))\n",
    "plt.show()"
   ]
  },
  {
   "cell_type": "code",
   "execution_count": 4,
   "metadata": {},
   "outputs": [
    {
     "name": "stdout",
     "output_type": "stream",
     "text": [
      "Mean and variance is both 5 due to Poisson Rules\n"
     ]
    }
   ],
   "source": [
    "#(a) The mean and variance of the distribution\n",
    "#mean and variance should all be the same\n",
    "print('Mean and variance is both',5, 'due to Poisson Rules' )"
   ]
  },
  {
   "cell_type": "code",
   "execution_count": 5,
   "metadata": {},
   "outputs": [
    {
     "name": "stdout",
     "output_type": "stream",
     "text": [
      "[0.00673795 0.03368973 0.08422434 0.1403739  0.17546737 0.17546737\n",
      " 0.14622281 0.10444486 0.06527804 0.03626558 0.01813279 0.00824218\n",
      " 0.00343424 0.00132086 0.00047174]\n"
     ]
    }
   ],
   "source": [
    "# Evaluate the probability mass function at these locations(0,1,2....14) which make 15 values.\n",
    "probs = stats.poisson.pmf(x,mu)\n",
    "print(probs)"
   ]
  },
  {
   "cell_type": "code",
   "execution_count": 6,
   "metadata": {},
   "outputs": [
    {
     "data": {
      "text/plain": [
       "0.08422433748856832"
      ]
     },
     "execution_count": 6,
     "metadata": {},
     "output_type": "execute_result"
    }
   ],
   "source": [
    "#(b) The probability that two customers arrive in a particular hour\n",
    "#Rate parameter:\n",
    "#5/hour = 1/12*60 = 5\n",
    "#the rate parameter is 5\n",
    "#Therefore:\n",
    "k=2\n",
    "mu=5#mu/rate parameter\n",
    "#Equation for pmf\n",
    "#eq = exp(-mu)*(mu**k)/k!\n",
    "stats.poisson.pmf(k, mu)"
   ]
  },
  {
   "cell_type": "code",
   "execution_count": 7,
   "metadata": {},
   "outputs": [
    {
     "name": "stdout",
     "output_type": "stream",
     "text": [
      "(c) The probability fewer than 10 arrive:  0.96817\n"
     ]
    }
   ],
   "source": [
    "#(c) The probability fewer than 10 arrive\n",
    "#P(X<10) = P(X<=9)\n",
    "#P(X=0)+....P(X=9) \n",
    "few = 0.00673795+0.03368973+0.08422434+0.1403739+0.17546737+ 0.17546737+0.14622281+ 0.10444486+ 0.06527804+ 0.03626558\n",
    "print('(c) The probability fewer than 10 arrive: ', round(few,5))"
   ]
  },
  {
   "cell_type": "code",
   "execution_count": 8,
   "metadata": {},
   "outputs": [
    {
     "name": "stdout",
     "output_type": "stream",
     "text": [
      "(d) The probability that no more than 10 arrive:  0.9863\n"
     ]
    }
   ],
   "source": [
    "#(d) The probability that no more than 10 arrive(less than or equal to)\n",
    "#P(X<=10)\n",
    "#P(X=0)+....P(X=10)\n",
    "nomore = 0.9681719500000001+0.01813279\n",
    "print('(d) The probability that no more than 10 arrive: ', round(nomore,5))"
   ]
  },
  {
   "cell_type": "code",
   "execution_count": 9,
   "metadata": {},
   "outputs": [
    {
     "name": "stdout",
     "output_type": "stream",
     "text": [
      "(e) The probability that more than 15 arrive  0.00023\n"
     ]
    }
   ],
   "source": [
    "#(e) The probability that more than 15 arrive\n",
    "#P(X>15) = 1-P(X<=15)\n",
    "# =1 - P(X=0)+.....p(X=15)\n",
    "morethan = probs.sum()\n",
    "morethan = 1-morethan\n",
    "print('(e) The probability that more than 15 arrive ', round(morethan,5))"
   ]
  }
 ],
 "metadata": {
  "kernelspec": {
   "display_name": "Python 3",
   "language": "python",
   "name": "python3"
  },
  "language_info": {
   "codemirror_mode": {
    "name": "ipython",
    "version": 3
   },
   "file_extension": ".py",
   "mimetype": "text/x-python",
   "name": "python",
   "nbconvert_exporter": "python",
   "pygments_lexer": "ipython3",
   "version": "3.8.3"
  }
 },
 "nbformat": 4,
 "nbformat_minor": 4
}
